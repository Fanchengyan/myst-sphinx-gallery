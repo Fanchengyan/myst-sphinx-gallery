{
 "cells": [
  {
   "cell_type": "markdown",
   "metadata": {},
   "source": [
    "# Notebook Conventional Image Syntax\n",
    "\n",
    "This is a ``.ipynb`` file with conventional image syntax.\n",
    "The example thumbnail is selected with ``alt`` option\n",
    "being set to ``gallery_thumbnail``.\n",
    "\n",
    "\n",
    "## without ``alt`` text\n",
    "\n",
    "```markdown\n",
    "![](/_static/rgb.png)\n",
    "```\n",
    "\n",
    "![](/_static/rgb.png)\n",
    "\n",
    "\n",
    "## ``alt`` set to ``gallery_thumbnail``\n",
    "\n",
    "\n",
    "```markdown\n",
    "![gallery_thumbnail](/_static/barchart.png)\n",
    "```\n",
    "\n",
    "![gallery_thumbnail](/_static/barchart.png)\n",
    "\n",
    "\n",
    "## ``alt`` set to a random text\n",
    "\n",
    "```markdown\n",
    "![a random text](/_static/bar_colors.png)\n",
    "```\n",
    "\n",
    "![a random text](/_static/bar_colors.png)\n",
    "\n",
    "\n"
   ]
  },
  {
   "cell_type": "markdown",
   "metadata": {},
   "source": []
  }
 ],
 "metadata": {
  "language_info": {
   "name": "python"
  }
 },
 "nbformat": 4,
 "nbformat_minor": 2
}
