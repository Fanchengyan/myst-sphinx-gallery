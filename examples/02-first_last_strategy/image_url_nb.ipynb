{
 "cells": [
  {
   "cell_type": "markdown",
   "metadata": {},
   "source": [
    "# Markdown Image Example\n",
    "\n",
    "This is an example of images in a markdown cell to test first/last strategy.\n",
    "\n",
    "Conventional markdown image syntax:\n",
    "\n",
    "![](../_static/bar_colors.png)\n",
    "\n",
    "![](../_static/barchart.png)\n",
    "\n",
    "Image example:\n",
    "\n",
    "```{image} ../_static/bar_colors.png\n",
    "   :align: center\n",
    "   :with: 60%\n",
    "```\n",
    "\n",
    "Figure example:\n",
    "\n",
    "```{figure} ../_static/rgb.png\n",
    "   :align: center\n",
    "   :with: 60%\n",
    "\n",
    "This is the caption of the figure.\n",
    "```\n",
    "\n",
    "The image above is a thumbnail of a bar chart."
   ]
  }
 ],
 "metadata": {
  "language_info": {
   "name": "python"
  }
 },
 "nbformat": 4,
 "nbformat_minor": 2
}
